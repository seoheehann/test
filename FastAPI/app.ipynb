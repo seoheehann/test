{
 "cells": [
  {
   "cell_type": "code",
   "execution_count": 1,
   "metadata": {},
   "outputs": [
    {
     "ename": "ImportError",
     "evalue": "cannot import name 'add_panel_app' from 'panel.io.fastapi' (c:\\Users\\alstn\\AppData\\Local\\Programs\\Python\\Python313\\Lib\\site-packages\\panel\\io\\fastapi.py)",
     "output_type": "error",
     "traceback": [
      "\u001b[1;31m---------------------------------------------------------------------------\u001b[0m",
      "\u001b[1;31mImportError\u001b[0m                               Traceback (most recent call last)",
      "Cell \u001b[1;32mIn[1], line 4\u001b[0m\n\u001b[0;32m      1\u001b[0m \u001b[38;5;28;01mfrom\u001b[39;00m \u001b[38;5;21;01mfastapi\u001b[39;00m \u001b[38;5;28;01mimport\u001b[39;00m FastAPI\n\u001b[0;32m      2\u001b[0m \u001b[38;5;28;01mimport\u001b[39;00m \u001b[38;5;21;01mpanel\u001b[39;00m \u001b[38;5;28;01mas\u001b[39;00m \u001b[38;5;21;01mpn\u001b[39;00m\n\u001b[1;32m----> 4\u001b[0m \u001b[38;5;28;01mfrom\u001b[39;00m \u001b[38;5;21;01mpanel\u001b[39;00m\u001b[38;5;21;01m.\u001b[39;00m\u001b[38;5;21;01mio\u001b[39;00m\u001b[38;5;21;01m.\u001b[39;00m\u001b[38;5;21;01mfastapi\u001b[39;00m \u001b[38;5;28;01mimport\u001b[39;00m add_panel_app\n\u001b[0;32m      6\u001b[0m \u001b[38;5;66;03m# Initialize FastAPI application\u001b[39;00m\n\u001b[0;32m      7\u001b[0m app \u001b[38;5;241m=\u001b[39m FastAPI()\n",
      "\u001b[1;31mImportError\u001b[0m: cannot import name 'add_panel_app' from 'panel.io.fastapi' (c:\\Users\\alstn\\AppData\\Local\\Programs\\Python\\Python313\\Lib\\site-packages\\panel\\io\\fastapi.py)"
     ]
    }
   ],
   "source": [
    "from fastapi import FastAPI\n",
    "import panel as pn\n",
    "\n",
    "from panel.io.fastapi import add_panel_app\n",
    "\n",
    "# Initialize FastAPI application\n",
    "app = FastAPI()\n",
    "\n",
    "@app.get(\"/\")\n",
    "async def read_root():\n",
    "    return {\"Hello\": \"World\"}\n",
    "\n",
    "\n",
    "@add_panel_app('/panel', app=app, title='My Panel App')\n",
    "def create_panel_app():\n",
    "    slider = pn.widgets.IntSlider(name='Slider', start=0, end=10, value=3)\n",
    "    return slider.rx() * '⭐'"
   ]
  }
 ],
 "metadata": {
  "kernelspec": {
   "display_name": "Python 3",
   "language": "python",
   "name": "python3"
  },
  "language_info": {
   "codemirror_mode": {
    "name": "ipython",
    "version": 3
   },
   "file_extension": ".py",
   "mimetype": "text/x-python",
   "name": "python",
   "nbconvert_exporter": "python",
   "pygments_lexer": "ipython3",
   "version": "3.13.0"
  }
 },
 "nbformat": 4,
 "nbformat_minor": 2
}
